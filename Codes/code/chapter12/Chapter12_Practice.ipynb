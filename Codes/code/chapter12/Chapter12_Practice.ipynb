{
 "cells": [
  {
   "cell_type": "code",
   "execution_count": 1,
   "metadata": {
    "collapsed": true
   },
   "outputs": [],
   "source": [
    "import numpy as np\n",
    "import matplotlib.pyplot as plt"
   ]
  },
  {
   "cell_type": "code",
   "execution_count": 10,
   "metadata": {
    "collapsed": false
   },
   "outputs": [],
   "source": [
    "from scipy import signal\n",
    "t = np.linspace(0, 2, 5000)\n",
    "plt.plot(t, signal.sawtooth(2 * np.pi * 4 * t))\n",
    "plt.show()"
   ]
  },
  {
   "cell_type": "code",
   "execution_count": 13,
   "metadata": {
    "collapsed": true
   },
   "outputs": [],
   "source": [
    "t = np.linspace(0, 1, 400)\n",
    "plt.plot(t, signal.square(2 * np.pi * 4 * t))\n",
    "plt.ylim(-2, 2)\n",
    "plt.title('Square Wave')\n",
    "plt.show()"
   ]
  },
  {
   "cell_type": "code",
   "execution_count": 15,
   "metadata": {
    "collapsed": false
   },
   "outputs": [],
   "source": [
    "sig = np.sin(2 * np.pi * t)\n",
    "pwm = signal.square(2 * np.pi * 30 * t, duty=(sig +1)/2)\n",
    "plt.subplot(2, 1, 1)\n",
    "plt.plot(t, sig)\n",
    "plt.title('Sine Wave')\n",
    "plt.subplot(2, 1, 2)\n",
    "plt.plot(t, pwm)\n",
    "plt.title('PWM')\n",
    "plt.ylim(-1.5, 1.5)\n",
    "plt.show()"
   ]
  },
  {
   "cell_type": "code",
   "execution_count": 17,
   "metadata": {
    "collapsed": false
   },
   "outputs": [],
   "source": [
    "window = signal.hamming(101)\n",
    "plt.plot(window)\n",
    "plt.title('Hamming Window Function')\n",
    "plt.xlabel('Sample')\n",
    "plt.ylabel('Amplitude')\n",
    "plt.show()"
   ]
  },
  {
   "cell_type": "code",
   "execution_count": 18,
   "metadata": {
    "collapsed": true
   },
   "outputs": [],
   "source": [
    "window = signal.hanning(101)\n",
    "plt.plot(window)\n",
    "plt.title('Hanning Window Function')\n",
    "plt.xlabel('Sample')\n",
    "plt.ylabel('Amplitude')\n",
    "plt.show()"
   ]
  },
  {
   "cell_type": "code",
   "execution_count": 20,
   "metadata": {
    "collapsed": true
   },
   "outputs": [],
   "source": [
    "window = signal.kaiser(51, beta=20)\n",
    "plt.plot(window)\n",
    "plt.title('Kaiser Window Function Beta = 20')\n",
    "plt.xlabel('Sample')\n",
    "plt.ylabel('Amplitude')\n",
    "plt.show()"
   ]
  },
  {
   "cell_type": "code",
   "execution_count": 22,
   "metadata": {
    "collapsed": true
   },
   "outputs": [],
   "source": [
    "plt.plot(signal.ricker(200, 6.0))\n",
    "plt.show()"
   ]
  },
  {
   "cell_type": "code",
   "execution_count": 28,
   "metadata": {
    "collapsed": false
   },
   "outputs": [],
   "source": [
    "sig = np.repeat([0., 1., 0.], 100)\n",
    "win = signal.hann(50)\n",
    "filtered = signal.convolve(sig, win, mode='same') / sum(win)\n",
    "plt.subplot(3, 1, 1)\n",
    "plt.plot(sig)\n",
    "plt.ylim(-0.2, 1.2)\n",
    "plt.title('Original Pulse')\n",
    "plt.subplot(3, 1, 2)\n",
    "plt.plot(win)\n",
    "plt.ylim(-0.2, 1.2)\n",
    "plt.title('Filter Impulse Response')\n",
    "plt.subplot(3, 1, 3)\n",
    "plt.plot(filtered)\n",
    "plt.ylim(-0.2, 1.2)\n",
    "plt.title('Filtered Signal')\n",
    "plt.show()"
   ]
  }
 ],
 "metadata": {
  "kernelspec": {
   "display_name": "Python 3",
   "language": "python",
   "name": "python3"
  },
  "language_info": {
   "codemirror_mode": {
    "name": "ipython",
    "version": 3
   },
   "file_extension": ".py",
   "mimetype": "text/x-python",
   "name": "python",
   "nbconvert_exporter": "python",
   "pygments_lexer": "ipython3",
   "version": "3.4.2"
  }
 },
 "nbformat": 4,
 "nbformat_minor": 2
}
