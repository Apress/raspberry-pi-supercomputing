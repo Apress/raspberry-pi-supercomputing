{
 "cells": [
  {
   "cell_type": "code",
   "execution_count": 1,
   "metadata": {
    "collapsed": true,
    "deletable": true,
    "editable": true
   },
   "outputs": [],
   "source": [
    "import numpy as np\n",
    "import matplotlib.pyplot as plt\n",
    "from scipy.constants import *"
   ]
  },
  {
   "cell_type": "code",
   "execution_count": 2,
   "metadata": {
    "collapsed": false,
    "deletable": true,
    "editable": true
   },
   "outputs": [
    {
     "name": "stdout",
     "output_type": "stream",
     "text": [
      "Pi = 3.141592653589793\n",
      "The golden ratio = 1.618033988749895\n",
      "The speed of light = 299792458.0\n",
      "The Planck constant = 6.62606957e-34\n",
      "The standard acceleration of gravity = 9.80665\n",
      "The Universal constant of gravity = 6.67384e-11\n"
     ]
    }
   ],
   "source": [
    "print(\"Pi = \" + str(pi))\n",
    "print(\"The golden ratio = \" + str(golden))\n",
    "print(\"The speed of light = \" + str(c))\n",
    "print(\"The Planck constant = \" + str(h))\n",
    "print(\"The standard acceleration of gravity = \" + str(g))\n",
    "print(\"The Universal constant of gravity = \" + str(G))"
   ]
  },
  {
   "cell_type": "code",
   "execution_count": 2,
   "metadata": {
    "collapsed": false,
    "deletable": true,
    "editable": true
   },
   "outputs": [
    {
     "name": "stdout",
     "output_type": "stream",
     "text": [
      "[[-0.8   0.2 ]\n",
      " [ 0.45 -0.05]]\n"
     ]
    }
   ],
   "source": [
    "import numpy as np\n",
    "from scipy import linalg\n",
    "a = np.array([[1, 4], [9, 16]])\n",
    "b = linalg.inv(a)\n",
    "print(b)"
   ]
  },
  {
   "cell_type": "code",
   "execution_count": 7,
   "metadata": {
    "collapsed": false,
    "deletable": true,
    "editable": true
   },
   "outputs": [
    {
     "name": "stdout",
     "output_type": "stream",
     "text": [
      "[ 2. -2.  9.]\n",
      "[ 2.  4. -1.]\n"
     ]
    }
   ],
   "source": [
    "a = np.array([[3, 2, 0], [1, -1, 0], [0, 5, 1]])\n",
    "b = np.array([2, 4, -1])\n",
    "from scipy import linalg\n",
    "x = linalg.solve(a, b)\n",
    "print(x)\n",
    "print(np.dot(a, x))"
   ]
  },
  {
   "cell_type": "code",
   "execution_count": 8,
   "metadata": {
    "collapsed": false,
    "deletable": true,
    "editable": true
   },
   "outputs": [
    {
     "name": "stdout",
     "output_type": "stream",
     "text": [
      "0.0\n"
     ]
    }
   ],
   "source": [
    "a = np.array([[0, 1, 2], [3, 4, 5], [6, 7, 8]])\n",
    "print(linalg.det(a))"
   ]
  },
  {
   "cell_type": "code",
   "execution_count": 10,
   "metadata": {
    "collapsed": false,
    "deletable": true,
    "editable": true
   },
   "outputs": [
    {
     "name": "stdout",
     "output_type": "stream",
     "text": [
      "35.2136337233\n",
      "54\n",
      "36\n",
      "24\n"
     ]
    }
   ],
   "source": [
    "a = np.arange(16).reshape((4, 4))\n",
    "print(linalg.norm(a))\n",
    "print(linalg.norm(a, np.inf))\n",
    "print(linalg.norm(a, 1))\n",
    "print(linalg.norm(a, -1))"
   ]
  },
  {
   "cell_type": "code",
   "execution_count": 4,
   "metadata": {
    "collapsed": false,
    "deletable": true,
    "editable": true
   },
   "outputs": [
    {
     "name": "stdout",
     "output_type": "stream",
     "text": [
      "[[-0.14393358 -2.17574812  0.44271419]\n",
      " [-0.22635436  0.52711805  0.46305456]\n",
      " [ 0.40644007  0.03541494  0.77268022]]\n",
      "[[-0.29556539  0.93247789  0.2076682 ]\n",
      " [-0.4648152  -0.33028381  0.82149829]\n",
      " [ 0.83461843  0.14627912  0.53105036]]\n",
      "[[ 0.4869771   0.42762132  0.29880736]\n",
      " [ 0.         -2.19775511  0.37290876]\n",
      " [-0.         -0.          0.8826683 ]]\n"
     ]
    }
   ],
   "source": [
    "from numpy import random\n",
    "from scipy import linalg\n",
    "a = random.randn(3, 3)\n",
    "q, r = linalg.qr(a)\n",
    "print(a)\n",
    "print(q)\n",
    "print(r)"
   ]
  },
  {
   "cell_type": "code",
   "execution_count": 5,
   "metadata": {
    "collapsed": false
   },
   "outputs": [
    {
     "name": "stdout",
     "output_type": "stream",
     "text": [
      "[[-1.63450097  1.49101808 -0.23635624]\n",
      " [-0.         -0.66145553 -0.32555466]\n",
      " [ 0.          0.         -0.87377484]]\n",
      "[[ 0.67633136  0.62824668 -0.38455428]\n",
      " [ 0.57114571 -0.77695775 -0.26481924]\n",
      " [-0.46515424 -0.04053097 -0.88430129]]\n"
     ]
    }
   ],
   "source": [
    "r, q = linalg.rq(a)\n",
    "print(r)\n",
    "print(q)"
   ]
  },
  {
   "cell_type": "code",
   "execution_count": 6,
   "metadata": {
    "collapsed": false
   },
   "outputs": [
    {
     "name": "stdout",
     "output_type": "stream",
     "text": [
      "(48.599999999999994, 5.39568389967826e-13)\n"
     ]
    }
   ],
   "source": [
    "from scipy import integrate\n",
    "f1 = lambda x: x**4\n",
    "print(integrate.quad(f1, 0, 3))"
   ]
  },
  {
   "cell_type": "code",
   "execution_count": 8,
   "metadata": {
    "collapsed": false
   },
   "outputs": [
    {
     "name": "stdout",
     "output_type": "stream",
     "text": [
      "(1.0000000000000002, 5.842606742906004e-11)\n"
     ]
    }
   ],
   "source": [
    "import numpy as np\n",
    "f2 = lambda x: np.exp(-x)\n",
    "print(integrate.quad(f2, 0, np.inf))"
   ]
  },
  {
   "cell_type": "code",
   "execution_count": 9,
   "metadata": {
    "collapsed": false
   },
   "outputs": [
    {
     "name": "stdout",
     "output_type": "stream",
     "text": [
      "12.0\n"
     ]
    }
   ],
   "source": [
    "print(integrate.trapz([1, 2, 3, 4, 5]))"
   ]
  },
  {
   "cell_type": "code",
   "execution_count": 14,
   "metadata": {
    "collapsed": false
   },
   "outputs": [],
   "source": [
    "import matplotlib.pyplot as plt\n",
    "x = np.linspace(-2, 2, num=30)\n",
    "y = x\n",
    "y_int = integrate.cumtrapz(y, x, initial=0)\n",
    "plt.plot(x, y_int, 'ro', x, y[0] + 0.5 * x**2, 'b-')\n",
    "plt.show()"
   ]
  },
  {
   "cell_type": "code",
   "execution_count": 21,
   "metadata": {
    "collapsed": false
   },
   "outputs": [],
   "source": [
    "from scipy import interpolate\n",
    "x = np.arange(0, 15)\n",
    "y = np.exp(x/3.0)\n",
    "f = interpolate.interp1d(x, y)\n",
    "xnew = np.arange(0, 14, 0.1)\n",
    "ynew = f(xnew)\n",
    "plt.plot(x, y, 'o', xnew, ynew, '-')\n",
    "plt.show()"
   ]
  },
  {
   "cell_type": "code",
   "execution_count": 22,
   "metadata": {
    "collapsed": true
   },
   "outputs": [],
   "source": [
    "x = np.arange(-5.01, 5.01, 0.25)\n",
    "y = np.arange(-5.01, 5.01, 0.25)\n",
    "xx, yy = np.meshgrid(x, y)\n",
    "z = np.sin(xx**3 + yy**3)\n",
    "f = interpolate.interp2d(x, y, z, kind='cubic')\n",
    "xnew = np.arange(-5.01, 5.01, 1e-2)\n",
    "ynew = np.arange(-5.01, 5.01, 1e-2)\n",
    "znew = f(xnew, ynew)\n",
    "plt.plot(x, z[0, :], 'ro-', xnew, znew[0, :], 'b-')\n",
    "plt.show()"
   ]
  },
  {
   "cell_type": "code",
   "execution_count": 27,
   "metadata": {
    "collapsed": true
   },
   "outputs": [],
   "source": [
    "from scipy.interpolate import splev, splrep\n",
    "x = np.linspace(-10, 10, 50)\n",
    "y = np.sinh(x)\n",
    "spl = splrep(x, y)\n",
    "x2 = np.linspace(-10, 10, 50)\n",
    "y2 = splev(x2, spl)\n",
    "plt.plot(x, y, 'o', x2, y2)\n",
    "plt.show()"
   ]
  },
  {
   "cell_type": "code",
   "execution_count": 31,
   "metadata": {
    "collapsed": false
   },
   "outputs": [],
   "source": [
    "from scipy.interpolate import splprep\n",
    "theta = np.linspace(0, 2*np.pi, 80)\n",
    "r = 0.5 + np.cosh(theta)\n",
    "x = r * np.cos(theta)\n",
    "y = r * np.sin(theta)\n",
    "tck, u = splprep([x, y], s=0)\n",
    "new_points = splev(u, tck)\n",
    "plt.plot(x, y, 'ro')\n",
    "plt.plot(new_points[0], new_points[1], 'r-')\n",
    "plt.show()"
   ]
  },
  {
   "cell_type": "code",
   "execution_count": null,
   "metadata": {
    "collapsed": true
   },
   "outputs": [],
   "source": []
  }
 ],
 "metadata": {
  "kernelspec": {
   "display_name": "Python 3",
   "language": "python",
   "name": "python3"
  },
  "language_info": {
   "codemirror_mode": {
    "name": "ipython",
    "version": 3
   },
   "file_extension": ".py",
   "mimetype": "text/x-python",
   "name": "python",
   "nbconvert_exporter": "python",
   "pygments_lexer": "ipython3",
   "version": "3.4.2"
  }
 },
 "nbformat": 4,
 "nbformat_minor": 2
}
